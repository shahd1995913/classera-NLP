{
  "nbformat": 4,
  "nbformat_minor": 0,
  "metadata": {
    "colab": {
      "name": "Arabic_chatbot_Final.ipynb",
      "private_outputs": true,
      "provenance": [],
      "collapsed_sections": []
    },
    "kernelspec": {
      "name": "python3",
      "display_name": "Python 3"
    },
    "language_info": {
      "name": "python"
    }
  },
  "cells": [
    {
      "cell_type": "markdown",
      "source": [
        "# **1. import Libraries**"
      ],
      "metadata": {
        "id": "NNL8Lpjl1qGH"
      }
    },
    {
      "cell_type": "code",
      "source": [
        "! pip install stemmer\n",
        "import numpy as np\n",
        "import nltk\n",
        "nltk.download('punkt') # use punkt tokenizer\n",
        "nltk.download('wordnet') # use the wordNet dictionary\n",
        "from nltk.stem import WordNetLemmatizer\n",
        "lemmatizer = WordNetLemmatizer()\n",
        "from nltk.stem.lancaster import LancasterStemmer\n",
        "import string\n",
        "import pickle\n",
        "from keras.models import Sequential\n",
        "from keras.layers import Dense, Activation, Dropout\n",
        "import random\n",
        "import tensorflow as tf\n",
        "stemmer = LancasterStemmer()\n",
        "from nltk import word_tokenize  # Arabic root\n",
        "from nltk.stem.isri import ISRIStemmer # Arabic root\n"
      ],
      "metadata": {
        "id": "Bmt8yIzTzthq"
      },
      "execution_count": null,
      "outputs": []
    },
    {
      "cell_type": "markdown",
      "source": [
        "#  ***2. Read the intents of our training data, the intends are structured in JSON file ***"
      ],
      "metadata": {
        "id": "aro8Gzs5utog"
      }
    },
    {
      "cell_type": "code",
      "execution_count": null,
      "metadata": {
        "id": "dCu7CIVxg6rU"
      },
      "outputs": [],
      "source": [
        "import json\n",
        "with open('/content/arabic.json') as json_data:\n",
        "  intents=json.load(json_data)"
      ]
    },
    {
      "cell_type": "markdown",
      "source": [
        "#   **3. tokenization is made by NLTK word_tokenize() function**"
      ],
      "metadata": {
        "id": "HbwT-9npvQ7i"
      }
    },
    {
      "cell_type": "code",
      "source": [
        "import re\n",
        "st = ISRIStemmer()\n",
        "words =[]\n",
        "classes=[]\n",
        "documents =[]\n",
        "ignore_words=['?']\n",
        "wordsfilter=[]\n",
        "# loop in each sentence in our intents patterns\n",
        "for intent in intents['intents']:\n",
        "  for pattern in intent['patterns']:\n",
        "    # tokenize each word in the sentence\n",
        "    w=nltk.word_tokenize(pattern)\n",
        "    # add to doc in our corpus\n",
        "    words.extend(w)\n",
        "    documents.append((w,intent['tag']))\n",
        "    # add to our classes list\n",
        "    root = [print(st.stem(line)) for line in nltk.word_tokenize(pattern) ]\n",
        "    # root = [wordsfilter.append(st.stem(a)) for a in nltk.word_tokenize(pattern) ]\n",
        "    \n",
        "    if intent['tag'] not in classes:\n",
        "      classes.append(intent['tag'])\n",
        "# print(wordsfilter)\n",
        "\n",
        "# stem and lower the word and remove duplicates\n",
        "words=[stemmer.stem(w.lower()) for w in words if w not in ignore_words]\n",
        "\n",
        "# words = [lemmatizer.lemmatize(w.lower()) for w in words if w not in ignore_words]\n",
        "# remove duplicates\n",
        "words = sorted(list(set(words)))\n",
        "classes = sorted(list(set(classes)))\n",
        "print (len(documents), \"documents\")\n",
        "print (len(classes), \"classes\", classes)\n",
        "print (len(words), \"unique lemmatized words\",words )\n"
      ],
      "metadata": {
        "id": "AezKAaQcvhy7"
      },
      "execution_count": null,
      "outputs": []
    },
    {
      "cell_type": "code",
      "source": [
        "# create training data\n",
        "training = []\n",
        "output = []\n",
        "# create an empty array for our output\n",
        "output_empty = [0] * len(classes)\n",
        "\n",
        "# training set, bag of words for each sentence\n",
        "for doc in documents:\n",
        "    # initialize our bag of words\n",
        "    bag = []\n",
        "    # list of tokenized words for the pattern\n",
        "    pattern_words = doc[0]\n",
        "    # stem each word\n",
        "    pattern_words = [stemmer.stem(word.lower()) for word in pattern_words]\n",
        "    # create our bag of words array\n",
        "    for w in words:\n",
        "        bag.append(1) if w in pattern_words else bag.append(0)\n",
        "\n",
        "    # output is a '0' for each tag and '1' for current tag\n",
        "    output_row = list(output_empty)\n",
        "    output_row[classes.index(doc[1])] = 1\n",
        "\n",
        "    training.append([bag, output_row])\n",
        "\n",
        "# shuffle our features and turn into np.array\n",
        "random.shuffle(training)\n",
        "training = np.array(training)\n",
        "\n",
        "# create train and test lists\n",
        "train_x = list(training[:, 0])\n",
        "train_y = list(training[:, 1])"
      ],
      "metadata": {
        "id": "zPvO4NPL2fDw"
      },
      "execution_count": null,
      "outputs": []
    },
    {
      "cell_type": "markdown",
      "source": [
        "# 1. TFlearn is a modular and transparent deep learning library built on top of Tensorflow. It was designed to provide a higher-level API to TensorFlow in order ...\n",
        "# 2. The two reasons I would choose Tflearn over Keras is because of its performance increase over Keras in Tensorflow and a bit clearer syntax. \n",
        "\n",
        "## Link : http://tflearn.org/models/dnn/\n"
      ],
      "metadata": {
        "id": "n1qDIJ2jbNrR"
      }
    },
    {
      "cell_type": "code",
      "source": [
        "# reset underlying graph data\n",
        "\n",
        "! pip install tflearn \n",
        "\n",
        "\n",
        "import tflearn\n",
        "# tf.reset_default_graph()\n",
        "tf.compat.v1.reset_default_graph()\n",
        "# Build neural network\n",
        "net = tflearn.input_data(shape=[None, len(train_x[0])])\n",
        "net = tflearn.fully_connected(net, 8)\n",
        "net = tflearn.fully_connected(net, 8)\n",
        "net = tflearn.fully_connected(net, len(train_y[0]), activation='softmax')\n",
        "net = tflearn.regression(net)\n",
        "\n",
        "# Define model and setup tensorboard\n",
        "model = tflearn.DNN(net, tensorboard_dir='tflearn_logs')\n",
        "# Start training (apply gradient descent algorithm)\n",
        "model.fit(train_x, train_y, n_epoch=1000, batch_size=8, show_metric=True)\n",
        "model.save('model.tflearn')\n",
        "\n",
        "# essay greading -- text  NLP \n"
      ],
      "metadata": {
        "id": "onL9gPRn6BTq"
      },
      "execution_count": null,
      "outputs": []
    },
    {
      "cell_type": "markdown",
      "source": [
        "#  **Build a chatbot framework to process responses :**\n"
      ],
      "metadata": {
        "id": "pz9Imw4Q6v4r"
      }
    },
    {
      "cell_type": "markdown",
      "source": [
        "# 1.  Need to tokenize the input sentence \n",
        "# 2.  Return the bag of words that contains 0s and 1s to batch it as input to the DNN classifier\n",
        "\n",
        "\n"
      ],
      "metadata": {
        "id": "YRQRPomB7HJ0"
      }
    },
    {
      "cell_type": "code",
      "source": [
        "ERROR_THRESHOLD = 0.25\n",
        "\n",
        "def clean_up_sentence(sentence):\n",
        "    # tokenize the pattern\n",
        "    sentence_words = nltk.word_tokenize(sentence)\n",
        "    # stem each word\n",
        "    sentence_words = [stemmer.stem(word.lower()) for word in sentence_words]\n",
        "    return sentence_words\n",
        "\n",
        "# return bag of words array: 0 or 1 for each word in the bag that exists in the sentence\n",
        "def bow(sentence, words, show_details=False):\n",
        "    # tokenize the pattern\n",
        "    sentence_words = clean_up_sentence(sentence)\n",
        "    # bag of words\n",
        "    bag = [0]*len(words)\n",
        "    for s in sentence_words:\n",
        "        for i, w in enumerate(words):\n",
        "            if w == s:\n",
        "                bag[i] = 1\n",
        "                if show_details:\n",
        "                    print(\"found in bag %s\" % w)\n",
        "    return np.array(bag)"
      ],
      "metadata": {
        "id": "puON35nG7hgj"
      },
      "execution_count": null,
      "outputs": []
    },
    {
      "cell_type": "code",
      "source": [
        "def classify(sentence):\n",
        "    # generate probabilities from the model\n",
        "    results = model.predict([bow(sentence, words)])[0]\n",
        "    # filter out predictions below a threshold\n",
        "    results = [[i, r] for i, r in enumerate(results) if r > ERROR_THRESHOLD]\n",
        "    # sort by strength of probability\n",
        "    results.sort(key=lambda x: x[1], reverse=True)\n",
        "    return_list = []\n",
        "    for r in results:\n",
        "        return_list.append((classes[r[0]], r[1]))\n",
        "    # return tuple of intent and probability\n",
        "    return return_list\n",
        "\n",
        "def response(sentence):\n",
        "    results = classify(sentence)\n",
        "    # if we have a classification then find the matching intent tag\n",
        "    if results:\n",
        "        # loop as long as there are matches to process\n",
        "        while results:\n",
        "            for i in intents['intents']:\n",
        "                # find a tag matching the first results\n",
        "                if i['tag'] == results[0][0]:\n",
        "                    # a random response from the intent\n",
        "                    return print(random.choice(i['responses']))\n",
        "\n",
        "            results.pop(0)"
      ],
      "metadata": {
        "id": "__9KeU6w7_wv"
      },
      "execution_count": null,
      "outputs": []
    },
    {
      "cell_type": "markdown",
      "source": [
        "# **Add context into response processor** **bold text**"
      ],
      "metadata": {
        "id": "nmuhLYB68IW1"
      }
    },
    {
      "cell_type": "code",
      "source": [
        "def response(sentence, userID='123', show_details=False):\n",
        "    results = classify(sentence)\n",
        "    # if we have a classification then find the matching intent tag\n",
        "    if results:\n",
        "        # loop as long as there are matches to process\n",
        "        while results:\n",
        "            for i in intents['intents']:\n",
        "                # find a tag matching the first results\n",
        "                if i['tag'] == results[0][0]:\n",
        "                  if 'context_set' in i :\n",
        "                    if show_details:\n",
        "                      print('context:',i['context_set'])\n",
        "                      context[userID]=i['context_set']\n",
        "                  if not 'context_filter' in i or (userID in context and 'context_filter' in i and i['context_filter']== context[userID]):\n",
        "                    if show_details :\n",
        "                      print('tag:',i['tag'])\n",
        "                    # a random response from the intent\n",
        "                    return (random.choice(i['responses']))\n",
        "\n",
        "            results.pop(0)"
      ],
      "metadata": {
        "id": "jAMsSxyX-M8I"
      },
      "execution_count": null,
      "outputs": []
    },
    {
      "cell_type": "markdown",
      "source": [
        "# **Get result**"
      ],
      "metadata": {
        "id": "ualuNsPx-XMn"
      }
    },
    {
      "cell_type": "code",
      "source": [
        "print(\"Classera ChatBot:My name is Shahed, What do you want to chat about? Please fill the input that you search about \")\n",
        "print(\"If you want to exit any time just say bye\")\n",
        "flag=True\n",
        "while flag:\n",
        "  ask=input('User : ')\n",
        "  print('Classera Bot: ' , response(ask))\n",
        "  if ask == \"شكرا\"   or ask == \"باي\":\n",
        "    flag=False"
      ],
      "metadata": {
        "id": "QplzOMjp8Lxh"
      },
      "execution_count": null,
      "outputs": []
    }
  ]
}