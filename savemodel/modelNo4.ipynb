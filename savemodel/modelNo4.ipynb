{
  "nbformat": 4,
  "nbformat_minor": 0,
  "metadata": {
    "colab": {
      "name": "modelNo4.ipynb",
      "private_outputs": true,
      "provenance": [],
      "authorship_tag": "ABX9TyO+arBgyDRZvTAbmvuf6Yy9",
      "include_colab_link": true
    },
    "kernelspec": {
      "name": "python3",
      "display_name": "Python 3"
    },
    "language_info": {
      "name": "python"
    }
  },
  "cells": [
    {
      "cell_type": "markdown",
      "metadata": {
        "id": "view-in-github",
        "colab_type": "text"
      },
      "source": [
        "<a href=\"https://colab.research.google.com/github/shahd1995913/classera-NLP/blob/main/savemodel/modelNo4.ipynb\" target=\"_parent\"><img src=\"https://colab.research.google.com/assets/colab-badge.svg\" alt=\"Open In Colab\"/></a>"
      ]
    },
    {
      "cell_type": "code",
      "execution_count": null,
      "metadata": {
        "id": "Dsmtnxfi9Dfn"
      },
      "outputs": [],
      "source": [
        "! pip install stemmer\n",
        "import numpy as np\n",
        "import nltk\n",
        "nltk.download('punkt') # use punkt tokenizer\n",
        "nltk.download('wordnet') # use the wordNet dictionary\n",
        "from nltk.stem import WordNetLemmatizer\n",
        "lemmatizer = WordNetLemmatizer()\n",
        "from nltk.stem.lancaster import LancasterStemmer\n",
        "import string\n",
        "import pickle\n",
        "from keras.models import Sequential\n",
        "from keras.layers import Dense, Activation, Dropout\n",
        "import random\n",
        "import tensorflow as tf\n",
        "stemmer = LancasterStemmer()\n",
        "from nltk import word_tokenize  # Arabic root\n",
        "from nltk.stem.isri import ISRIStemmer # Arabic root\n",
        "import json\n",
        "with open('/content/arabic.json') as json_data:\n",
        "  intents=json.load(json_data)"
      ]
    },
    {
      "cell_type": "code",
      "source": [
        "import re\n",
        "st = ISRIStemmer()\n",
        "words =[]\n",
        "classes=[]\n",
        "documents =[]\n",
        "ignore_words=['?']\n",
        "wordsfilter=[]\n",
        "# loop in each sentence in our intents patterns\n",
        "for intent in intents['intents']:\n",
        "  for pattern in intent['patterns']:\n",
        "    # tokenize each word in the sentence\n",
        "    w=nltk.word_tokenize(pattern)\n",
        "    # add to doc in our corpus\n",
        "    words.extend(w)\n",
        "    documents.append((w,intent['tag']))\n",
        "    # add to our classes list\n",
        "    root = [print(st.stem(line)) for line in nltk.word_tokenize(pattern) ]\n",
        "    # root = [wordsfilter.append(st.stem(a)) for a in nltk.word_tokenize(pattern) ]\n",
        "    \n",
        "    if intent['tag'] not in classes:\n",
        "      classes.append(intent['tag'])\n",
        "# print(wordsfilter)\n",
        "\n",
        "# stem and lower the word and remove duplicates\n",
        "words=[stemmer.stem(w.lower()) for w in words if w not in ignore_words]\n",
        "\n",
        "# words = [lemmatizer.lemmatize(w.lower()) for w in words if w not in ignore_words]\n",
        "# remove duplicates\n",
        "words = sorted(list(set(words)))\n",
        "classes = sorted(list(set(classes)))\n",
        "print (len(documents), \"documents\")\n",
        "print (len(classes), \"classes\", classes)\n",
        "print (len(words), \"unique lemmatized words\",words )\n"
      ],
      "metadata": {
        "id": "ViGwm29U9nYG"
      },
      "execution_count": null,
      "outputs": []
    },
    {
      "cell_type": "code",
      "source": [
        "# create training data\n",
        "training = []\n",
        "output = []\n",
        "# create an empty array for our output\n",
        "output_empty = [0] * len(classes)\n",
        "\n",
        "# training set, bag of words for each sentence\n",
        "for doc in documents:\n",
        "    # initialize our bag of words\n",
        "    bag = []\n",
        "    # list of tokenized words for the pattern\n",
        "    pattern_words = doc[0]\n",
        "    # stem each word\n",
        "    pattern_words = [stemmer.stem(word.lower()) for word in pattern_words]\n",
        "    # create our bag of words array\n",
        "    for w in words:\n",
        "        bag.append(1) if w in pattern_words else bag.append(0)\n",
        "\n",
        "    # output is a '0' for each tag and '1' for current tag\n",
        "    output_row = list(output_empty)\n",
        "    output_row[classes.index(doc[1])] = 1\n",
        "\n",
        "    training.append([bag, output_row])\n",
        "\n",
        "# shuffle our features and turn into np.array\n",
        "random.shuffle(training)\n",
        "training = np.array(training)\n",
        "\n",
        "# create train and test lists\n",
        "train_x = list(training[:, 0])\n",
        "train_y = list(training[:, 1])\n",
        "# reset underlying graph data"
      ],
      "metadata": {
        "id": "3_mDUzVe9r-m"
      },
      "execution_count": null,
      "outputs": []
    },
    {
      "cell_type": "code",
      "source": [
        "! pip install tflearn \n",
        "import tflearn\n",
        "# tf.reset_default_graph()\n",
        "import tensorflow as tf\n",
        "tf.compat.v1.reset_default_graph()\n",
        "# Build neural network\n",
        "net = tflearn.input_data(shape=[None, len(train_x[0])])\n",
        "net = tflearn.fully_connected(net, 8)\n",
        "net = tflearn.fully_connected(net, 8)\n",
        "net = tflearn.fully_connected(net, len(train_y[0]), activation='softmax')\n",
        "net = tflearn.regression(net)\n",
        "\n",
        "# Define model and setup tensorboard\n",
        "model = tflearn.DNN(net, tensorboard_dir='tflearn_logs')\n",
        "# Start training (apply gradient descent algorithm)\n",
        "model.fit(train_x, train_y, n_epoch=1, batch_size=4, show_metric=True)\n",
        "# Save a model\n",
        "# Try saving the model using '.model' extension.\n",
        "model.save('model.tflearn')\n"
      ],
      "metadata": {
        "id": "wA9qrGB4bdrp"
      },
      "execution_count": null,
      "outputs": []
    },
    {
      "cell_type": "code",
      "source": [
        "# Load a model\n",
        "# For loading the model: model.load(\"model_name.model\") \n",
        "model.load('model.tflearn')\n",
        "model.predict(train_x)"
      ],
      "metadata": {
        "id": "ynAYL7DpcVAF"
      },
      "execution_count": null,
      "outputs": []
    },
    {
      "cell_type": "code",
      "source": [
        "x = input(\"Do you wanna save the model and overwrite? y or n: \")\n",
        "if(x.strip().lower() == \"y\"):\n",
        "        model.save('model.tflearn')\n",
        "        x = input(\"Do you wanna to load the model and overwrite? y or n: \")\n",
        "        if(x.strip().lower() == \"y\"):\n",
        "             model.load('model.tflearn')\n",
        "        else :\n",
        "          print(\"Model Not loaded\") \n",
        "\n",
        "else :\n",
        "  print(\"Model Not saved\") "
      ],
      "metadata": {
        "id": "Ro9lpJmqPnmW"
      },
      "execution_count": null,
      "outputs": []
    },
    {
      "cell_type": "markdown",
      "source": [
        "# Code used to load and save model"
      ],
      "metadata": {
        "id": "VT4xOvKffaH-"
      }
    },
    {
      "cell_type": "code",
      "source": [
        "# model.fit(train_x, train_y, n_epoch=2, batch_size=8, show_metric=True)\n",
        "# model.save('model1.tflearn')"
      ],
      "metadata": {
        "id": "zfGZlS_DfXXh"
      },
      "execution_count": null,
      "outputs": []
    },
    {
      "cell_type": "markdown",
      "source": [
        "# Code used to retrieve and load existing model"
      ],
      "metadata": {
        "id": "0EOinu3pfp17"
      }
    },
    {
      "cell_type": "code",
      "source": [
        "# tf.compat.v1.reset_default_graph()\n",
        "# # Build neural network\n",
        "# # train_x[0] and train_y[0] had to be regenerated from scratch\n",
        "# net = tflearn.input_data(shape=[None, len(train_x[0])])\n",
        "# net = tflearn.fully_connected(net, 8)\n",
        "# net = tflearn.fully_connected(net, 8)\n",
        "# net = tflearn.fully_connected(net, len(train_y[0]), activation='softmax')\n",
        "# net = tflearn.regression(net)\n",
        "\n",
        "# # Define model and setup tensorboard\n",
        "# dnn = tflearn.DNN(net, tensorboard_dir='tflearn_logs')\n",
        "# dnn.load('./model1.tflearn')"
      ],
      "metadata": {
        "id": "9zmky6mjfm3x"
      },
      "execution_count": null,
      "outputs": []
    },
    {
      "cell_type": "code",
      "source": [
        "ERROR_THRESHOLD = 0.25\n",
        "\n",
        "def clean_up_sentence(sentence):\n",
        "    # tokenize the pattern\n",
        "    sentence_words = nltk.word_tokenize(sentence)\n",
        "    # stem each word\n",
        "    sentence_words = [stemmer.stem(word.lower()) for word in sentence_words]\n",
        "    return sentence_words\n",
        "\n",
        "# return bag of words array: 0 or 1 for each word in the bag that exists in the sentence\n",
        "def bow(sentence, words, show_details=False):\n",
        "    # tokenize the pattern\n",
        "    sentence_words = clean_up_sentence(sentence)\n",
        "    # bag of words\n",
        "    bag = [0]*len(words)\n",
        "    for s in sentence_words:\n",
        "        for i, w in enumerate(words):\n",
        "            if w == s:\n",
        "                bag[i] = 1\n",
        "                if show_details:\n",
        "                    print(\"found in bag %s\" % w)\n",
        "    return np.array(bag)\n",
        "def classify(sentence):\n",
        "    # generate probabilities from the model\n",
        "    results = model.predict([bow(sentence, words)])[0]\n",
        "    # filter out predictions below a threshold\n",
        "    results = [[i, r] for i, r in enumerate(results) if r > ERROR_THRESHOLD]\n",
        "    # sort by strength of probability\n",
        "    results.sort(key=lambda x: x[1], reverse=True)\n",
        "    return_list = []\n",
        "    for r in results:\n",
        "        return_list.append((classes[r[0]], r[1]))\n",
        "    # return tuple of intent and probability\n",
        "    return return_list\n",
        "\n",
        "def response(sentence):\n",
        "    results = classify(sentence)\n",
        "    # if we have a classification then find the matching intent tag\n",
        "    if results:\n",
        "        # loop as long as there are matches to process\n",
        "        while results:\n",
        "            for i in intents['intents']:\n",
        "                # find a tag matching the first results\n",
        "                if i['tag'] == results[0][0]:\n",
        "                    # a random response from the intent\n",
        "                    return print(random.choice(i['responses']))\n",
        "\n",
        "            results.pop(0)\n",
        "def response(sentence, userID='123', show_details=False):\n",
        "    results = classify(sentence)\n",
        "    # if we have a classification then find the matching intent tag\n",
        "    if results:\n",
        "        # loop as long as there are matches to process\n",
        "        while results:\n",
        "            for i in intents['intents']:\n",
        "                # find a tag matching the first results\n",
        "                if i['tag'] == results[0][0]:\n",
        "                  if 'context_set' in i :\n",
        "                    if show_details:\n",
        "                      print('context:',i['context_set'])\n",
        "                      context[userID]=i['context_set']\n",
        "                  if not 'context_filter' in i or (userID in context and 'context_filter' in i and i['context_filter']== context[userID]):\n",
        "                    if show_details :\n",
        "                      print('tag:',i['tag'])\n",
        "                    # a random response from the intent\n",
        "                    return (random.choice(i['responses']))\n",
        "\n",
        "            results.pop(0)"
      ],
      "metadata": {
        "id": "76lewi60BTvb"
      },
      "execution_count": null,
      "outputs": []
    },
    {
      "cell_type": "code",
      "source": [
        "print(\"Classera ChatBot:My name is Shahed, What do you want to chat about? Please fill the input that you search about \")\n",
        "print(\"If you want to exit any time just say bye\")\n",
        "flag=True\n",
        "while flag:\n",
        "  ask=input('User : ')\n",
        "  print('Classera Bot: ' , response(ask))\n",
        "  if ask == \"شكرا\"   or ask == \"باي\":\n",
        "    flag=False"
      ],
      "metadata": {
        "id": "8Kr-0ewSBhaM"
      },
      "execution_count": null,
      "outputs": []
    }
  ]
}